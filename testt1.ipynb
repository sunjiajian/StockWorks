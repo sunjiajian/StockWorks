{
 "cells": [
  {
   "cell_type": "code",
   "execution_count": 11,
   "metadata": {
    "collapsed": false
   },
   "outputs": [],
   "source": [
    "import numpy as np\n",
    "import pandas as pd\n",
    "import tushare as ts\n",
    "from pandas import DataFrame, Series"
   ]
  },
  {
   "cell_type": "code",
   "execution_count": 12,
   "metadata": {
    "collapsed": false
   },
   "outputs": [],
   "source": [
    "zixuan_codes = pd.DataFrame([['上指', 'sh'], ['深指', 'sz'], ['创指', 'cyb'], ['创业板B', '150153'], ['互联网B', '150195'], ['煤炭B', '150290'], ['钢铁B', '150288'], ['证券B', '150172'], ['房地产B', '150118'], ['国防B', '150206'], ['浙江世宝', '002703'], ['克明面业', '002661'], ['第一创业', '002797'], ['万科A', '000002'], ['恒生电子', '600570'], ['龙洲股份', '002682'], ['天顺股份', '002800'], ['深物业A', '000011']])\n",
    "def get_realtime_info():\n",
    "    rti = ts.get_realtime_quotes(zixuan_codes[1])\n",
    "    rti['percent'] = [100.0 * (float(rti['price'][i]) - float(rti['pre_close'][i]))/float(rti['pre_close'][i]) for i in range(len(rti.index))]\n",
    "    rti['amount'] = [float(rti['amount'][i]) / 100000000.0 for i in range(len(rti.index))]\n",
    "    return rti[['name','code','price','high','low','percent','amount','time']]"
   ]
  },
  {
   "cell_type": "code",
   "execution_count": 13,
   "metadata": {
    "collapsed": true
   },
   "outputs": [],
   "source": [
    "def code2str(cd):\n",
    "    if cd < 10:\n",
    "        scd = '00000%d' % cd\n",
    "        return scd\n",
    "    elif cd < 100:\n",
    "        scd = '0000%d' % cd\n",
    "        return scd\n",
    "    elif cd < 1000:\n",
    "        scd = '000%d' % cd\n",
    "        return scd\n",
    "    elif cd < 10000:\n",
    "        scd = '00%d' % cd\n",
    "        return scd\n",
    "    elif cd < 100000:\n",
    "        scd = '0%d' % cd\n",
    "        return scd\n",
    "    else:\n",
    "        scd = str(cd)\n",
    "        return scd"
   ]
  },
  {
   "cell_type": "code",
   "execution_count": 4,
   "metadata": {
    "collapsed": false,
    "scrolled": true
   },
   "outputs": [
    {
     "data": {
      "text/html": [
       "<div>\n",
       "<table border=\"1\" class=\"dataframe\">\n",
       "  <thead>\n",
       "    <tr style=\"text-align: right;\">\n",
       "      <th></th>\n",
       "      <th>name</th>\n",
       "      <th>code</th>\n",
       "      <th>price</th>\n",
       "      <th>high</th>\n",
       "      <th>low</th>\n",
       "      <th>percent</th>\n",
       "      <th>amount</th>\n",
       "      <th>time</th>\n",
       "    </tr>\n",
       "  </thead>\n",
       "  <tbody>\n",
       "    <tr>\n",
       "      <th>0</th>\n",
       "      <td>上证指数</td>\n",
       "      <td>000001</td>\n",
       "      <td>3196.0436</td>\n",
       "      <td>3202.7401</td>\n",
       "      <td>3166.0696</td>\n",
       "      <td>0.780807</td>\n",
       "      <td>3437.739513</td>\n",
       "      <td>15:01:03</td>\n",
       "    </tr>\n",
       "    <tr>\n",
       "      <th>1</th>\n",
       "      <td>深证成指</td>\n",
       "      <td>399001</td>\n",
       "      <td>10878.139</td>\n",
       "      <td>10878.139</td>\n",
       "      <td>10792.830</td>\n",
       "      <td>0.521879</td>\n",
       "      <td>4167.115949</td>\n",
       "      <td>15:05:03</td>\n",
       "    </tr>\n",
       "    <tr>\n",
       "      <th>2</th>\n",
       "      <td>创业板指</td>\n",
       "      <td>399006</td>\n",
       "      <td>2147.107</td>\n",
       "      <td>2147.107</td>\n",
       "      <td>2125.494</td>\n",
       "      <td>0.176642</td>\n",
       "      <td>259.561427</td>\n",
       "      <td>15:05:03</td>\n",
       "    </tr>\n",
       "    <tr>\n",
       "      <th>3</th>\n",
       "      <td>创业板B</td>\n",
       "      <td>150153</td>\n",
       "      <td>0.915</td>\n",
       "      <td>0.932</td>\n",
       "      <td>0.868</td>\n",
       "      <td>4.571429</td>\n",
       "      <td>6.365596</td>\n",
       "      <td>15:05:03</td>\n",
       "    </tr>\n",
       "    <tr>\n",
       "      <th>4</th>\n",
       "      <td>互联网B</td>\n",
       "      <td>150195</td>\n",
       "      <td>0.453</td>\n",
       "      <td>0.455</td>\n",
       "      <td>0.433</td>\n",
       "      <td>3.424658</td>\n",
       "      <td>2.567051</td>\n",
       "      <td>15:05:03</td>\n",
       "    </tr>\n",
       "    <tr>\n",
       "      <th>5</th>\n",
       "      <td>煤炭B级</td>\n",
       "      <td>150290</td>\n",
       "      <td>0.633</td>\n",
       "      <td>0.657</td>\n",
       "      <td>0.582</td>\n",
       "      <td>6.030151</td>\n",
       "      <td>1.444319</td>\n",
       "      <td>15:05:03</td>\n",
       "    </tr>\n",
       "    <tr>\n",
       "      <th>6</th>\n",
       "      <td>钢铁B</td>\n",
       "      <td>150288</td>\n",
       "      <td>0.566</td>\n",
       "      <td>0.569</td>\n",
       "      <td>0.530</td>\n",
       "      <td>6.994329</td>\n",
       "      <td>0.943482</td>\n",
       "      <td>15:05:03</td>\n",
       "    </tr>\n",
       "    <tr>\n",
       "      <th>7</th>\n",
       "      <td>证券B</td>\n",
       "      <td>150172</td>\n",
       "      <td>1.351</td>\n",
       "      <td>1.375</td>\n",
       "      <td>1.289</td>\n",
       "      <td>4.891304</td>\n",
       "      <td>8.061591</td>\n",
       "      <td>15:06:03</td>\n",
       "    </tr>\n",
       "    <tr>\n",
       "      <th>8</th>\n",
       "      <td>房地产B</td>\n",
       "      <td>150118</td>\n",
       "      <td>0.481</td>\n",
       "      <td>0.485</td>\n",
       "      <td>0.473</td>\n",
       "      <td>0.208333</td>\n",
       "      <td>0.627904</td>\n",
       "      <td>15:05:03</td>\n",
       "    </tr>\n",
       "    <tr>\n",
       "      <th>9</th>\n",
       "      <td>国防B</td>\n",
       "      <td>150206</td>\n",
       "      <td>0.480</td>\n",
       "      <td>0.483</td>\n",
       "      <td>0.462</td>\n",
       "      <td>3.004292</td>\n",
       "      <td>3.392055</td>\n",
       "      <td>15:05:03</td>\n",
       "    </tr>\n",
       "    <tr>\n",
       "      <th>10</th>\n",
       "      <td>浙江世宝</td>\n",
       "      <td>002703</td>\n",
       "      <td>49.900</td>\n",
       "      <td>51.970</td>\n",
       "      <td>49.660</td>\n",
       "      <td>-1.305380</td>\n",
       "      <td>8.891336</td>\n",
       "      <td>15:05:03</td>\n",
       "    </tr>\n",
       "    <tr>\n",
       "      <th>11</th>\n",
       "      <td>克明面业</td>\n",
       "      <td>002661</td>\n",
       "      <td>18.400</td>\n",
       "      <td>18.600</td>\n",
       "      <td>18.230</td>\n",
       "      <td>-1.446170</td>\n",
       "      <td>0.618884</td>\n",
       "      <td>15:05:03</td>\n",
       "    </tr>\n",
       "    <tr>\n",
       "      <th>12</th>\n",
       "      <td>第一创业</td>\n",
       "      <td>002797</td>\n",
       "      <td>43.380</td>\n",
       "      <td>43.990</td>\n",
       "      <td>40.500</td>\n",
       "      <td>6.323529</td>\n",
       "      <td>30.060370</td>\n",
       "      <td>15:05:03</td>\n",
       "    </tr>\n",
       "    <tr>\n",
       "      <th>13</th>\n",
       "      <td>万 科Ａ</td>\n",
       "      <td>000002</td>\n",
       "      <td>25.990</td>\n",
       "      <td>26.770</td>\n",
       "      <td>25.700</td>\n",
       "      <td>-2.146084</td>\n",
       "      <td>24.957075</td>\n",
       "      <td>15:05:03</td>\n",
       "    </tr>\n",
       "    <tr>\n",
       "      <th>14</th>\n",
       "      <td>恒生电子</td>\n",
       "      <td>600570</td>\n",
       "      <td>59.540</td>\n",
       "      <td>59.560</td>\n",
       "      <td>57.800</td>\n",
       "      <td>1.569430</td>\n",
       "      <td>11.794320</td>\n",
       "      <td>15:00:00</td>\n",
       "    </tr>\n",
       "    <tr>\n",
       "      <th>15</th>\n",
       "      <td>龙洲股份</td>\n",
       "      <td>002682</td>\n",
       "      <td>14.870</td>\n",
       "      <td>14.970</td>\n",
       "      <td>14.680</td>\n",
       "      <td>0.269724</td>\n",
       "      <td>0.881504</td>\n",
       "      <td>15:05:03</td>\n",
       "    </tr>\n",
       "    <tr>\n",
       "      <th>16</th>\n",
       "      <td>天顺股份</td>\n",
       "      <td>002800</td>\n",
       "      <td>82.800</td>\n",
       "      <td>87.380</td>\n",
       "      <td>82.580</td>\n",
       "      <td>-6.324245</td>\n",
       "      <td>3.790112</td>\n",
       "      <td>15:05:03</td>\n",
       "    </tr>\n",
       "    <tr>\n",
       "      <th>17</th>\n",
       "      <td>深物业A</td>\n",
       "      <td>000011</td>\n",
       "      <td>18.990</td>\n",
       "      <td>19.200</td>\n",
       "      <td>18.620</td>\n",
       "      <td>0.423057</td>\n",
       "      <td>2.606433</td>\n",
       "      <td>15:05:03</td>\n",
       "    </tr>\n",
       "  </tbody>\n",
       "</table>\n",
       "</div>"
      ],
      "text/plain": [
       "    name    code      price       high        low   percent       amount  \\\n",
       "0   上证指数  000001  3196.0436  3202.7401  3166.0696  0.780807  3437.739513   \n",
       "1   深证成指  399001  10878.139  10878.139  10792.830  0.521879  4167.115949   \n",
       "2   创业板指  399006   2147.107   2147.107   2125.494  0.176642   259.561427   \n",
       "3   创业板B  150153      0.915      0.932      0.868  4.571429     6.365596   \n",
       "4   互联网B  150195      0.453      0.455      0.433  3.424658     2.567051   \n",
       "5   煤炭B级  150290      0.633      0.657      0.582  6.030151     1.444319   \n",
       "6    钢铁B  150288      0.566      0.569      0.530  6.994329     0.943482   \n",
       "7    证券B  150172      1.351      1.375      1.289  4.891304     8.061591   \n",
       "8   房地产B  150118      0.481      0.485      0.473  0.208333     0.627904   \n",
       "9    国防B  150206      0.480      0.483      0.462  3.004292     3.392055   \n",
       "10  浙江世宝  002703     49.900     51.970     49.660 -1.305380     8.891336   \n",
       "11  克明面业  002661     18.400     18.600     18.230 -1.446170     0.618884   \n",
       "12  第一创业  002797     43.380     43.990     40.500  6.323529    30.060370   \n",
       "13  万 科Ａ  000002     25.990     26.770     25.700 -2.146084    24.957075   \n",
       "14  恒生电子  600570     59.540     59.560     57.800  1.569430    11.794320   \n",
       "15  龙洲股份  002682     14.870     14.970     14.680  0.269724     0.881504   \n",
       "16  天顺股份  002800     82.800     87.380     82.580 -6.324245     3.790112   \n",
       "17  深物业A  000011     18.990     19.200     18.620  0.423057     2.606433   \n",
       "\n",
       "        time  \n",
       "0   15:01:03  \n",
       "1   15:05:03  \n",
       "2   15:05:03  \n",
       "3   15:05:03  \n",
       "4   15:05:03  \n",
       "5   15:05:03  \n",
       "6   15:05:03  \n",
       "7   15:06:03  \n",
       "8   15:05:03  \n",
       "9   15:05:03  \n",
       "10  15:05:03  \n",
       "11  15:05:03  \n",
       "12  15:05:03  \n",
       "13  15:05:03  \n",
       "14  15:00:00  \n",
       "15  15:05:03  \n",
       "16  15:05:03  \n",
       "17  15:05:03  "
      ]
     },
     "execution_count": 4,
     "metadata": {},
     "output_type": "execute_result"
    }
   ],
   "source": [
    "get_realtime_info()"
   ]
  },
  {
   "cell_type": "code",
   "execution_count": 6,
   "metadata": {
    "collapsed": true
   },
   "outputs": [],
   "source": [
    "allstock = pd.read_csv('AllStock.csv')"
   ]
  },
  {
   "cell_type": "code",
   "execution_count": 10,
   "metadata": {
    "collapsed": false
   },
   "outputs": [
    {
     "data": {
      "text/plain": [
       "sh        0.831256\n",
       "sz        0.887672\n",
       "cyb       1.077302\n",
       "150153    1.984585\n",
       "150195    2.480145\n",
       "150290    5.679981\n",
       "150288    2.864506\n",
       "150172    2.919846\n",
       "150118    2.883831\n",
       "150206    3.175515\n",
       "002703    6.710803\n",
       "002661    2.436581\n",
       "002797    4.417862\n",
       "000002    3.563151\n",
       "600570    2.498148\n",
       "002682    3.256631\n",
       "002800    4.404989\n",
       "000011    4.442714\n",
       "dtype: float64"
      ]
     },
     "execution_count": 10,
     "metadata": {},
     "output_type": "execute_result"
    }
   ],
   "source": [
    "zfse = Series()\n",
    "for i in range(len(zixuan_codes.index)):\n",
    "    data = ts.get_k_data(code=zixuan_codes[1][i], start='2016-10-01', end='2016-11-13')\n",
    "    if len(data.index) > 10:\n",
    "        zf = Series([(float(data['high'][j]) - float(data['low'][j])) / float(data['close'][j-1]) * 100 if j > 0 else np.nan for j in range(len(data.index))])\n",
    "        zfm = zf.mean()\n",
    "        zfse[zixuan_codes[1][i]] = zf.mean()\n",
    "zfse"
   ]
  },
  {
   "cell_type": "code",
   "execution_count": null,
   "metadata": {
    "collapsed": false
   },
   "outputs": [],
   "source": [
    "allstock['code'][0]"
   ]
  },
  {
   "cell_type": "code",
   "execution_count": null,
   "metadata": {
    "collapsed": false,
    "scrolled": true
   },
   "outputs": [],
   "source": [
    "datas = ts.get_k_data('002703',start='2016-10-01', end='2016-11-13')\n",
    "datas"
   ]
  },
  {
   "cell_type": "code",
   "execution_count": null,
   "metadata": {
    "collapsed": false,
    "scrolled": false
   },
   "outputs": [],
   "source": [
    "datas_zf = Series([(100.0 * (float(datas['high'][j]) - float(datas['low'][j])) / float(datas['close'][j-1])) if j > 0 else np.nan for j in range(len(datas.index))])\n",
    "datas_zf"
   ]
  },
  {
   "cell_type": "code",
   "execution_count": null,
   "metadata": {
    "collapsed": false
   },
   "outputs": [],
   "source": [
    "datas_zf.mean()"
   ]
  },
  {
   "cell_type": "code",
   "execution_count": null,
   "metadata": {
    "collapsed": true
   },
   "outputs": [],
   "source": []
  }
 ],
 "metadata": {
  "kernelspec": {
   "display_name": "Python 3",
   "language": "python",
   "name": "python3"
  },
  "language_info": {
   "codemirror_mode": {
    "name": "ipython",
    "version": 3
   },
   "file_extension": ".py",
   "mimetype": "text/x-python",
   "name": "python",
   "nbconvert_exporter": "python",
   "pygments_lexer": "ipython3",
   "version": "3.4.3"
  }
 },
 "nbformat": 4,
 "nbformat_minor": 1
}
